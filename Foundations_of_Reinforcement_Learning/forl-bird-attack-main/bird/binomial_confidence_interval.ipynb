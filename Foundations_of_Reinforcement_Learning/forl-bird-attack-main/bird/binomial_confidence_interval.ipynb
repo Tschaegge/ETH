{
 "cells": [
  {
   "cell_type": "code",
   "execution_count": 3,
   "metadata": {},
   "outputs": [
    {
     "name": "stdout",
     "output_type": "stream",
     "text": [
      "Function: clean\n",
      "Successes: 20\n",
      "lower_bound: 0.8315665290169146, upper_bound: nan\n",
      "mean: nan\n",
      "Function: identity\n",
      "Successes: 1\n",
      "lower_bound: 0.0012650894979498038, upper_bound: 0.24873276277202777\n",
      "mean: 0.1249989261349888\n",
      "Function: negative\n",
      "Successes: 10\n",
      "lower_bound: 0.27195784956079183, upper_bound: 0.7280421504392081\n",
      "mean: 0.49999999999999994\n",
      "Function: exp decay\n",
      "Successes: 7\n",
      "lower_bound: 0.15390920478454118, upper_bound: 0.5921885345328282\n",
      "mean: 0.37304886965868467\n",
      "Function: sig comp\n",
      "Successes: 9\n",
      "lower_bound: 0.2305778967759241, upper_bound: 0.6847218669594515\n",
      "mean: 0.4576498818676878\n",
      "Function: neg tanh\n",
      "Successes: 8\n",
      "lower_bound: 0.1911900607253072, upper_bound: 0.6394574126925103\n",
      "mean: 0.41532373670890876\n"
     ]
    }
   ],
   "source": [
    "from scipy.stats import beta\n",
    "\n",
    "detection_results = {\n",
    "    \"clean\": 20,\n",
    "    \"identity\": 1,\n",
    "    \"negative\": 10,\n",
    "    \"exp decay\": 7,\n",
    "    \"sig comp\": 9,\n",
    "    \"neg tanh\": 8,\n",
    "}\n",
    "\n",
    "n = 20\n",
    "alpha = 0.05\n",
    "\n",
    "for f, k in detection_results.items():\n",
    "    print(f\"Function: {f}\")\n",
    "    print(f\"Successes: {k}\")\n",
    "    \n",
    "    # Compute the lower and upper bounds of the interval\n",
    "    lower_bound = beta.ppf(alpha / 2, k, n - k + 1)\n",
    "    upper_bound = beta.ppf(1 - alpha / 2, k + 1, n - k)\n",
    "    \n",
    "    print(f\"lower_bound: {lower_bound}, upper_bound: {upper_bound}\")\n",
    "    print(f\"mean: {(lower_bound + upper_bound) / 2}\")"
   ]
  }
 ],
 "metadata": {
  "kernelspec": {
   "display_name": "forl-bird-attack",
   "language": "python",
   "name": "python3"
  },
  "language_info": {
   "codemirror_mode": {
    "name": "ipython",
    "version": 3
   },
   "file_extension": ".py",
   "mimetype": "text/x-python",
   "name": "python",
   "nbconvert_exporter": "python",
   "pygments_lexer": "ipython3",
   "version": "3.11.9"
  }
 },
 "nbformat": 4,
 "nbformat_minor": 2
}
